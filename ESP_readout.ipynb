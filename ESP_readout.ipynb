{
 "cells": [
  {
   "cell_type": "markdown",
   "metadata": {},
   "source": [
    "# STM32 Readout"
   ]
  },
  {
   "cell_type": "code",
   "execution_count": 1,
   "metadata": {},
   "outputs": [],
   "source": [
    "from collections import deque\n",
    "from datetime import datetime, timedelta\n",
    "import glob\n",
    "import time\n",
    "import warnings\n",
    "\n",
    "from IPython import display\n",
    "import numpy as np\n",
    "import pandas as pd\n",
    "import matplotlib\n",
    "import matplotlib.pyplot as plt\n",
    "from tqdm.notebook import tqdm\n",
    "\n",
    "import serial\n",
    "import serial.tools.list_ports"
   ]
  },
  {
   "cell_type": "markdown",
   "metadata": {},
   "source": [
    "### Port selection"
   ]
  },
  {
   "cell_type": "code",
   "execution_count": 2,
   "metadata": {},
   "outputs": [
    {
     "data": {
      "text/plain": [
       "['/dev/ttyACM0 - STLINK-V3 - ST-Link VCP Ctrl']"
      ]
     },
     "execution_count": 2,
     "metadata": {},
     "output_type": "execute_result"
    }
   ],
   "source": [
    "[str(x) for x in serial.tools.list_ports.comports()]"
   ]
  },
  {
   "cell_type": "code",
   "execution_count": 3,
   "metadata": {},
   "outputs": [],
   "source": [
    "# To change the baud rate, you must also change it in the C code.\n",
    "# On Jelle's linux laptop, baud rates above 2_000_000 do not help;\n",
    "#    (apparently linux has a 4096-byte serial buffer that's filling \n",
    "#     faster than we can read it out here (even in a separate thread).\n",
    "# On windows you might be able to adjust the buffer size and go higher.\n",
    "ser = serial.Serial(\n",
    "    port='/dev/ttyACM0',\n",
    "    baudrate=2_000_000, \n",
    "    timeout=4)"
   ]
  },
  {
   "cell_type": "markdown",
   "metadata": {},
   "source": [
    "### Readout functions"
   ]
  },
  {
   "cell_type": "code",
   "execution_count": 4,
   "metadata": {},
   "outputs": [],
   "source": [
    "SAMPLES_IN_EVENT = 1000\n",
    "\n",
    "# All below lengths are in bytes:\n",
    "BYTES_PER_SAMPLE = 2\n",
    "DATA_LENGTH = BYTES_PER_SAMPLE * SAMPLES_IN_EVENT\n",
    "FOOTER_LENGTH = 32\n",
    "PACKET_LENGTH = FOOTER_LENGTH + DATA_LENGTH\n",
    "\n",
    "MAGIC_TERMINATOR = b'!~O_o~!\\0'\n",
    "\n",
    "\n",
    "packets_read = 0\n",
    "\n",
    "def read_packet(ser):\n",
    "    \"\"\"Read one event 'packet' from the serial port\n",
    "        Returns (raw packet blob, dict with metadata)\n",
    "    \"\"\"\n",
    "    global packets_read\n",
    "    n_waiting = ser.inWaiting()\n",
    "    # if n_waiting > 4000 and packets_read > 10:\n",
    "    #     warnings.warn(\n",
    "    #         f\"{ser.inWaiting()} bytes buffered: not keeping up!\",\n",
    "    #         UserWarning)\n",
    "    \n",
    "    # Read from the serial buffer until we get exactly\n",
    "    # a packet's worth of data.\n",
    "    n_reads = 0\n",
    "    packet = b''\n",
    "    while len(packet) != PACKET_LENGTH:\n",
    "        packet = ser.read_until(MAGIC_TERMINATOR)\n",
    "        n_reads += 1\n",
    "    packets_read += 1\n",
    "\n",
    "    return (\n",
    "        packet,\n",
    "        dict(bytes_waiting=n_waiting,\n",
    "             bad_reads=n_reads - 1, \n",
    "             packets_read=packets_read))\n",
    "\n",
    "\n",
    "def decode_packet(blob, **kwargs):\n",
    "    \"\"\"Return (data_array, metadata_dict) from blob of packet bytes\"\"\"\n",
    "    data, footer = blob[:DATA_LENGTH], blob[DATA_LENGTH:]\n",
    "\n",
    "    event_number = np.frombuffer(footer[:4], dtype=np.uint32).item()\n",
    "    fifo_slot = footer[4]\n",
    "    timestamp = datetime.strptime(footer[5:24].decode(), \n",
    "                                  '%y%m%d_%H:%M:%S.%f')\n",
    "    dt = (timestamp - datetime(2000, 1, 1)).total_seconds()\n",
    "    \n",
    "    metadata = dict(\n",
    "        event_number=event_number, \n",
    "        fifo_slot=fifo_slot, \n",
    "        t=dt,\n",
    "        **kwargs)\n",
    "    data = np.frombuffer(data, dtype=np.uint16)\n",
    "    return data, metadata\n",
    "\n",
    "\n",
    "def save_data(filename, waveforms, metadata):\n",
    "    \"\"\"Save waveforms and metadata to filename as .npz\n",
    "    \n",
    "    Args:\n",
    "     - filename: path (with or without .npz suffix)\n",
    "     - waveforms: array or list of arrays\n",
    "     - metadata: dataframe or list of dicts\n",
    "    \"\"\"\n",
    "    if isinstance(waveforms, list):\n",
    "        waveforms = np.stack(waveforms)\n",
    "    if isinstance(metadata, list):\n",
    "        metadata = pd.DataFrame(metadata)\n",
    "    np.savez(\n",
    "        filename,\n",
    "        waveforms=waveforms,\n",
    "        metadata=metadata.to_records(index=False))\n",
    "\n",
    "\n",
    "def load_data(filename):\n",
    "    \"\"\"Load (waveforms array, metadata DataFrame) from filename\n",
    "    \"\"\"\n",
    "    if not filename.endswith('.npz'):\n",
    "        filename += '.npz'\n",
    "    q = np.load(filename)\n",
    "    return q['waveforms'], pd.DataFrame.from_records(q['metadata'])\n",
    "\n",
    "\n",
    "def load_all(output_name):\n",
    "    \"\"\"Load and concatenate all data under output_name\"\"\"\n",
    "    wvs, meta = zip(*[\n",
    "        load_data(filename)\n",
    "        for filename  in sorted(glob.glob(output_name + '*.npz'))])\n",
    "    return np.concatenate(wvs), pd.concat(meta).reset_index()"
   ]
  },
  {
   "cell_type": "markdown",
   "metadata": {},
   "source": [
    "## Readout configuration"
   ]
  },
  {
   "cell_type": "code",
   "execution_count": 5,
   "metadata": {},
   "outputs": [],
   "source": [
    "# Stop acquisition after this many events.\n",
    "acquire_n = 1_000\n",
    "\n",
    "# Save every ... events to a different file\n",
    "events_per_file = acquire_n\n",
    "\n",
    "# Output filename\n",
    "# Data will be saved to output_name_XXXXXX.npz,\n",
    "# where XXX is the file number\n",
    "output_name = 'test'\n",
    "\n",
    "# Make a plot, but only as often as plot_seconds\n",
    "# (plotting every event can slow acquisition)\n",
    "make_plot = True\n",
    "plot_seconds = 1."
   ]
  },
  {
   "cell_type": "markdown",
   "metadata": {},
   "source": [
    "### Readout loop"
   ]
  },
  {
   "cell_type": "code",
   "execution_count": 6,
   "metadata": {},
   "outputs": [
    {
     "data": {
      "image/png": "[encoded data removed]",
      "text/plain": [
       "<Figure size 432x288 with 1 Axes>"
      ]
     },
     "metadata": {},
     "output_type": "display_data"
    },
    {
     "data": {
      "application/vnd.jupyter.widget-view+json": {
       "model_id": "6e98e8a859b6480da7af7f20a4a06837",
       "version_major": 2,
       "version_minor": 0
      },
      "text/plain": [
       "Good events:   0%|          | 0/1000 [00:00<?, ?it/s]"
      ]
     },
     "metadata": {},
     "output_type": "display_data"
    },
    {
     "data": {
      "application/vnd.jupyter.widget-view+json": {
       "model_id": "72bff3b75129497fbf4630ce773b3216",
       "version_major": 2,
       "version_minor": 0
      },
      "text/plain": [
       "Missed events: 0it [00:00, ?it/s]"
      ]
     },
     "metadata": {},
     "output_type": "display_data"
    },
    {
     "data": {
      "application/vnd.jupyter.widget-view+json": {
       "model_id": "066856ff9fa84c8283974ee6fa434a26",
       "version_major": 2,
       "version_minor": 0
      },
      "text/plain": [
       "Bad reads (likely PC-side buffer full): 0it [00:00, ?it/s]"
      ]
     },
     "metadata": {},
     "output_type": "display_data"
    },
    {
     "data": {
      "application/vnd.jupyter.widget-view+json": {
       "model_id": "c422946f7f9349bb96c1f08317923460",
       "version_major": 2,
       "version_minor": 0
      },
      "text/plain": [
       "Warmup to empty buffer:   0%|          | 0/10 [00:00<?, ?it/s]"
      ]
     },
     "metadata": {},
     "output_type": "display_data"
    },
    {
     "name": "stdout",
     "output_type": "stream",
     "text": [
      "Acquisition took 26.86 sec \n"
     ]
    }
   ],
   "source": [
    "if make_plot:\n",
    "    fig = plt.figure(figsize=(6,4))\n",
    "    hfig = display.display(fig, display_id=True)\n",
    "    x = np.arange(SAMPLES_IN_EVENT)\n",
    "    line, = plt.plot(x, float('nan') * x)\n",
    "    plt.axhline(0, linewidth=1, c='k', alpha=0.2)\n",
    "    plt.xlim(0, SAMPLES_IN_EVENT)\n",
    "    plt.xlabel(\"ADC Samples\")\n",
    "    plt.ylabel(\"ADC counts\")\n",
    "    plt.ylim(-100, 2000)\n",
    "    \n",
    "good_counter = tqdm(total=acquire_n, desc='Good events')\n",
    "missed_counter = tqdm(desc='Missed events')\n",
    "bad_read_counter = tqdm(desc='Bad reads (likely PC-side buffer full)')\n",
    "file_number = 0\n",
    "\n",
    "waveforms = []\n",
    "metadata = []\n",
    "corrupted_packets = deque(maxlen=10)   # For debugging\n",
    "last_event_number = None\n",
    "done = False\n",
    "\n",
    "# Empty the PC-side serial buffer\n",
    "ser.read(ser.inWaiting())\n",
    "# Try to empty the fifo buffer on the microcontroller\n",
    "# (otherwise first few events are way earlier than others)\n",
    "for _ in tqdm(range(10), \"Warmup to empty buffer\"):\n",
    "    read_packet(ser);\n",
    "\n",
    "t_start = datetime.now()\n",
    "last_plot = datetime(year=2000, month=1, day=1)\n",
    "\n",
    "while not done:\n",
    "    try:\n",
    "        while not done and len(waveforms) < events_per_file:\n",
    "\n",
    "            # Read, decode, and store\n",
    "            packet, packet_meta = read_packet(ser)\n",
    "            waveform, meta = decode_packet(packet, **packet_meta)\n",
    "            waveforms.append(waveform)\n",
    "            metadata.append(meta)\n",
    "\n",
    "            # Update counters\n",
    "            good_counter.update()\n",
    "            done = good_counter.n >= acquire_n\n",
    "            bad_read_counter.update(meta['bad_reads'])\n",
    "\n",
    "            # Track missing events\n",
    "            if last_event_number is not None:\n",
    "                event_diff = meta['event_number'] - (last_event_number + 1)\n",
    "                missed_counter.update(event_diff)\n",
    "            last_event_number = meta['event_number']\n",
    "\n",
    "            # Plot if needed\n",
    "            next_plot = last_plot + timedelta(seconds=plot_seconds)\n",
    "            if make_plot and datetime.now() > next_plot:\n",
    "                line.set_data(np.arange(len(waveform)), waveform)\n",
    "                hfig.update(fig)\n",
    "                last_plot = datetime.now()\n",
    "\n",
    "    except KeyBoardInterrupt:\n",
    "        # That's fine, end acquisition.\n",
    "        # 'finally' below will save current chunk.\n",
    "        print(\"Acquisition interrupted.\")\n",
    "        break\n",
    "                \n",
    "    finally:\n",
    "        # Save chunk of data to file\n",
    "        save_data(output_name + ('%06d' % file_number),\n",
    "                  waveforms,\n",
    "                  metadata)\n",
    "        waveforms.clear()\n",
    "        metadata.clear()\n",
    "        file_number += 1\n",
    "\n",
    "if make_plot:\n",
    "    plt.close();\n",
    "dt = datetime.now() - t_start\n",
    "print(f\"Acquisition took {dt.total_seconds():.2f} sec \")\n",
    "\n",
    "metadata = pd.DataFrame(metadata)"
   ]
  },
  {
   "cell_type": "markdown",
   "metadata": {},
   "source": [
    "### Analysis demo"
   ]
  },
  {
   "cell_type": "code",
   "execution_count": 7,
   "metadata": {},
   "outputs": [],
   "source": [
    "from multihist import Histdd, Hist1d"
   ]
  },
  {
   "cell_type": "code",
   "execution_count": 8,
   "metadata": {},
   "outputs": [],
   "source": [
    "waveforms, meta = load_all(output_name)"
   ]
  },
  {
   "cell_type": "code",
   "execution_count": 9,
   "metadata": {},
   "outputs": [
    {
     "data": {
      "text/html": [
       "<div>\n",
       "<style scoped>\n",
       "    .dataframe tbody tr th:only-of-type {\n",
       "        vertical-align: middle;\n",
       "    }\n",
       "\n",
       "    .dataframe tbody tr th {\n",
       "        vertical-align: top;\n",
       "    }\n",
       "\n",
       "    .dataframe thead th {\n",
       "        text-align: right;\n",
       "    }\n",
       "</style>\n",
       "<table border=\"1\" class=\"dataframe\">\n",
       "  <thead>\n",
       "    <tr style=\"text-align: right;\">\n",
       "      <th></th>\n",
       "      <th>index</th>\n",
       "      <th>event_number</th>\n",
       "      <th>fifo_slot</th>\n",
       "      <th>t</th>\n",
       "      <th>bytes_waiting</th>\n",
       "      <th>bad_reads</th>\n",
       "      <th>packets_read</th>\n",
       "      <th>baseline</th>\n",
       "      <th>baseline_std</th>\n",
       "      <th>max_sample</th>\n",
       "      <th>height</th>\n",
       "      <th>area</th>\n",
       "    </tr>\n",
       "  </thead>\n",
       "  <tbody>\n",
       "    <tr>\n",
       "      <th>995</th>\n",
       "      <td>995</td>\n",
       "      <td>5123</td>\n",
       "      <td>0</td>\n",
       "      <td>132.385</td>\n",
       "      <td>0</td>\n",
       "      <td>0</td>\n",
       "      <td>1006</td>\n",
       "      <td>0.0</td>\n",
       "      <td>0.0</td>\n",
       "      <td>50</td>\n",
       "      <td>1927.0</td>\n",
       "      <td>448515.0</td>\n",
       "    </tr>\n",
       "    <tr>\n",
       "      <th>996</th>\n",
       "      <td>996</td>\n",
       "      <td>5124</td>\n",
       "      <td>0</td>\n",
       "      <td>132.412</td>\n",
       "      <td>0</td>\n",
       "      <td>0</td>\n",
       "      <td>1007</td>\n",
       "      <td>0.0</td>\n",
       "      <td>0.0</td>\n",
       "      <td>50</td>\n",
       "      <td>1884.0</td>\n",
       "      <td>450441.0</td>\n",
       "    </tr>\n",
       "    <tr>\n",
       "      <th>997</th>\n",
       "      <td>997</td>\n",
       "      <td>5125</td>\n",
       "      <td>0</td>\n",
       "      <td>132.436</td>\n",
       "      <td>0</td>\n",
       "      <td>0</td>\n",
       "      <td>1008</td>\n",
       "      <td>0.0</td>\n",
       "      <td>0.0</td>\n",
       "      <td>50</td>\n",
       "      <td>1885.0</td>\n",
       "      <td>441855.0</td>\n",
       "    </tr>\n",
       "    <tr>\n",
       "      <th>998</th>\n",
       "      <td>998</td>\n",
       "      <td>5126</td>\n",
       "      <td>0</td>\n",
       "      <td>132.463</td>\n",
       "      <td>0</td>\n",
       "      <td>0</td>\n",
       "      <td>1009</td>\n",
       "      <td>0.0</td>\n",
       "      <td>0.0</td>\n",
       "      <td>50</td>\n",
       "      <td>1925.0</td>\n",
       "      <td>454397.0</td>\n",
       "    </tr>\n",
       "    <tr>\n",
       "      <th>999</th>\n",
       "      <td>999</td>\n",
       "      <td>5127</td>\n",
       "      <td>0</td>\n",
       "      <td>132.491</td>\n",
       "      <td>0</td>\n",
       "      <td>0</td>\n",
       "      <td>1010</td>\n",
       "      <td>0.0</td>\n",
       "      <td>0.0</td>\n",
       "      <td>50</td>\n",
       "      <td>1889.0</td>\n",
       "      <td>441482.0</td>\n",
       "    </tr>\n",
       "  </tbody>\n",
       "</table>\n",
       "</div>"
      ],
      "text/plain": [
       "     index  event_number  fifo_slot        t  bytes_waiting  bad_reads  \\\n",
       "995    995          5123          0  132.385              0          0   \n",
       "996    996          5124          0  132.412              0          0   \n",
       "997    997          5125          0  132.436              0          0   \n",
       "998    998          5126          0  132.463              0          0   \n",
       "999    999          5127          0  132.491              0          0   \n",
       "\n",
       "     packets_read  baseline  baseline_std  max_sample  height      area  \n",
       "995          1006       0.0           0.0          50  1927.0  448515.0  \n",
       "996          1007       0.0           0.0          50  1884.0  450441.0  \n",
       "997          1008       0.0           0.0          50  1885.0  441855.0  \n",
       "998          1009       0.0           0.0          50  1925.0  454397.0  \n",
       "999          1010       0.0           0.0          50  1889.0  441482.0  "
      ]
     },
     "execution_count": 9,
     "metadata": {},
     "output_type": "execute_result"
    }
   ],
   "source": [
    "n_samples = waveforms.shape[1]\n",
    "n_baseline = 10\n",
    "\n",
    "baseline = waveforms[:, :n_baseline]\n",
    "meta['baseline'] = baseline.mean(axis=1)\n",
    "meta['baseline_std'] = baseline.std(axis=1)\n",
    "meta['max_sample'] = np.argmax(waveforms, axis=1)\n",
    "meta['height'] = np.max(waveforms, axis=1) - meta['baseline']\n",
    "meta['area'] = np.sum(waveforms, axis=1) - n_samples * meta['baseline']\n",
    "meta.tail()"
   ]
  },
  {
   "cell_type": "code",
   "execution_count": 10,
   "metadata": {},
   "outputs": [
    {
     "data": {
      "text/plain": [
       "Text(0, 0.5, 'Events / bin')"
      ]
     },
     "execution_count": 10,
     "metadata": {},
     "output_type": "execute_result"
    },
    {
     "data": {
      "image/png": "[encoded data removed]",
      "text/plain": [
       "<Figure size 432x288 with 1 Axes>"
      ]
     },
     "metadata": {
      "needs_background": "light"
     },
     "output_type": "display_data"
    }
   ],
   "source": [
    "t_spectrum = Hist1d(\n",
    "   meta['t'], \n",
    "   bins=20)\n",
    "t_spectrum.plot(errors=True, error_style='band', set_xlim=True)\n",
    "plt.ylim(0, None)\n",
    "plt.xlabel(\"Time [sec since power-up]\")\n",
    "plt.ylabel(\"Events / bin\")"
   ]
  },
  {
   "cell_type": "code",
   "execution_count": 11,
   "metadata": {},
   "outputs": [
    {
     "data": {
      "text/plain": [
       "Text(0, 0.5, 'Waveforms / bin')"
      ]
     },
     "execution_count": 11,
     "metadata": {},
     "output_type": "execute_result"
    },
    {
     "data": {
      "image/png": "[encoded data removed]",
      "text/plain": [
       "<Figure size 432x288 with 1 Axes>"
      ]
     },
     "metadata": {
      "needs_background": "light"
     },
     "output_type": "display_data"
    }
   ],
   "source": [
    "height_spectrum = Hist1d(\n",
    "   meta['height'], \n",
    "   bins=np.linspace(0, meta['height'].max() * 1.1, 250))\n",
    "height_spectrum.plot(set_xlim=True)\n",
    "plt.ylim(0, None)\n",
    "plt.xlabel(\"Height [ADC counts]\")\n",
    "plt.ylabel(\"Waveforms / bin\")"
   ]
  },
  {
   "cell_type": "code",
   "execution_count": 12,
   "metadata": {},
   "outputs": [
    {
     "data": {
      "text/plain": [
       "Text(0, 0.5, 'Amplitude [ADC counts]')"
      ]
     },
     "execution_count": 12,
     "metadata": {},
     "output_type": "execute_result"
    },
    {
     "data": {
      "image/png": "[encoded data removed]",
      "text/plain": [
       "<Figure size 432x288 with 1 Axes>"
      ]
     },
     "metadata": {
      "needs_background": "light"
     },
     "output_type": "display_data"
    }
   ],
   "source": [
    "# Plot median waveform in blue\n",
    "n_samples = waveforms.shape[1]\n",
    "median = np.median(waveforms, axis=0)\n",
    "t = np.arange(n_samples)\n",
    "plt.plot(t, median,\n",
    "         c='b', linewidth=1)\n",
    "\n",
    "# Plot histogram of all waveforms in gray\n",
    "t = np.arange(n_samples)\n",
    "mh = Histdd(dimensions=(\n",
    "    ('time', np.arange(n_samples + 1) - 0.5),\n",
    "    ('amplitude', np.linspace(0, waveforms.max() * 1.1, 200))))\n",
    "all_ts = np.tile(t, len(waveforms)).reshape(waveforms.shape)\n",
    "mh.add(all_ts.ravel(), waveforms.ravel())\n",
    "mh.plot(log_scale=True, cmap=plt.cm.Greys, colorbar=False)\n",
    "\n",
    "plt.xlabel(\"Time [samples]\")\n",
    "plt.ylabel(\"Amplitude [ADC counts]\")"
   ]
  }
 ],
 "metadata": {
  "kernelspec": {
   "display_name": "Python 3",
   "language": "python",
   "name": "python3"
  },
  "language_info": {
   "codemirror_mode": {
    "name": "ipython",
    "version": 3
   },
   "file_extension": ".py",
   "mimetype": "text/x-python",
   "name": "python",
   "nbconvert_exporter": "python",
   "pygments_lexer": "ipython3",
   "version": "3.8.8"
  }
 },
 "nbformat": 4,
 "nbformat_minor": 4
}
